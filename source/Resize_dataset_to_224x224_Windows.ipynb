{
 "cells": [
  {
   "cell_type": "code",
   "execution_count": 5,
   "id": "aefeedc5",
   "metadata": {},
   "outputs": [
    {
     "name": "stdout",
     "output_type": "stream",
     "text": [
      "(359, 359, 3)\n",
      "Resized Dimensions :  (224, 224, 3)\n"
     ]
    }
   ],
   "source": [
    "import cv2\n",
    "import numpy as np\n",
    "\n",
    "# Read the image\n",
    "img = cv2.imread('C:\\\\Users\\\\marip\\\\Documents\\\\LiU\\\\732A64 Master Thesis\\\\PNGs for Thesis Presentation\\\\HGG\\\\BraTS20_Training_003_t1ce_ROI_axial.png')\n",
    "#cv2.imshow('image', img)\n",
    "#cv2.waitKey(0)\n",
    "#cv2.destroyAllWindows()\n",
    "\n",
    "# Get image width+height\n",
    "dimensions = img.shape\n",
    "print(dimensions)\n",
    "\n",
    "# Set desired image size\n",
    "size = (224, 224)\n",
    "\n",
    "# Resize image\n",
    "resized = cv2.resize(img, size, interpolation = cv2.INTER_AREA)\n",
    "\n",
    "# Display the result\n",
    "print('Resized Dimensions : ', resized.shape)\n",
    " \n",
    "cv2.imshow(\"Resized image\", resized)\n",
    "cv2.waitKey(0)\n",
    "cv2.destroyAllWindows()"
   ]
  }
 ],
 "metadata": {
  "kernelspec": {
   "display_name": "Python 3 (ipykernel)",
   "language": "python",
   "name": "python3"
  },
  "language_info": {
   "codemirror_mode": {
    "name": "ipython",
    "version": 3
   },
   "file_extension": ".py",
   "mimetype": "text/x-python",
   "name": "python",
   "nbconvert_exporter": "python",
   "pygments_lexer": "ipython3",
   "version": "3.8.12"
  }
 },
 "nbformat": 4,
 "nbformat_minor": 5
}
