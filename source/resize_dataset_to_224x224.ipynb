{
 "cells": [
  {
   "cell_type": "code",
   "execution_count": 1,
   "id": "5a3af24c",
   "metadata": {},
   "outputs": [
    {
     "name": "stdout",
     "output_type": "stream",
     "text": [
      "\n"
     ]
    }
   ],
   "source": [
    "import cv2\n",
    "import numpy as np\n",
    "\n",
    "# With OpenCV takes unreasonably long time\n",
    "# Read the image\n",
    "\"\"\"\"img = cv2.imread('/home/elech646/Downloads/BraTS20_Training_254_flair.png')\n",
    "cv2.imshow('image', img)\n",
    "cv2.waitKey(0)\n",
    "#cv2.destroyAllWindows()\n",
    "\n",
    "# Get image width+height\n",
    "dimensions = img.shape\n",
    "print(dimensions)\n",
    "\n",
    "# Set desired image size\n",
    "size = (224, 224)\n",
    "\n",
    "# Resize image\n",
    "resized = cv2.resize(img, size, interpolation = cv2.INTER_AREA)\n",
    "\n",
    "# Display the result\n",
    "print('Resized Dimensions : ', resized.shape)\n",
    " \n",
    "cv2.imshow(\"Resized image\", resized)\n",
    "cv2.waitKey(0)\n",
    "cv2.destroyAllWindows()\n",
    "\"\"\"\n",
    "print(\"\")"
   ]
  },
  {
   "cell_type": "code",
   "execution_count": 2,
   "id": "5dd1a5eb",
   "metadata": {},
   "outputs": [],
   "source": [
    "# With Pillow\n",
    "from PIL import Image\n",
    " \n",
    "# Read the image\n",
    "im1 = Image.open('/home/elech646/Downloads/BraTS20_Training_254_flair.png')\n",
    "#im1 = im1.convert('RGB')\n",
    "\n",
    "# Get image size\n",
    "width, height = im1.size # 592 x 592\n",
    "\n",
    "# Set desired image size\n",
    "size = (224, 224)\n",
    "\n",
    "# Resize image\n",
    "out = im1.resize(size)\n",
    "\n",
    "# Save resized image in '/local/data1/elech646'\n",
    "out.save('resized-output.png')"
   ]
  }
 ],
 "metadata": {
  "kernelspec": {
   "display_name": "Python 3 (ipykernel)",
   "language": "python",
   "name": "python3"
  },
  "language_info": {
   "codemirror_mode": {
    "name": "ipython",
    "version": 3
   },
   "file_extension": ".py",
   "mimetype": "text/x-python",
   "name": "python",
   "nbconvert_exporter": "python",
   "pygments_lexer": "ipython3",
   "version": "3.7.11"
  }
 },
 "nbformat": 4,
 "nbformat_minor": 5
}
